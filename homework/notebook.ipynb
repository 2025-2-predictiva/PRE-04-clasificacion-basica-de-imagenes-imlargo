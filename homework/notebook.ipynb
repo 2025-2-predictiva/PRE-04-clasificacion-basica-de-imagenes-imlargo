{
 "cells": [
  {
   "cell_type": "code",
   "execution_count": null,
   "id": "039f7dc4",
   "metadata": {},
   "outputs": [
    {
     "ename": "",
     "evalue": "",
     "output_type": "error",
     "traceback": [
      "\u001b[1;31mRunning cells with 'Python 3.12.3' requires the ipykernel package.\n",
      "\u001b[1;31mInstall 'ipykernel' into the Python environment. \n",
      "\u001b[1;31mCommand: '/bin/python3 -m pip install ipykernel -U --user --force-reinstall'"
     ]
    }
   ],
   "source": [
    "import matplotlib.pyplot as plt\n",
    "from sklearn import datasets\n",
    "from sklearn.model_selection import train_test_split"
   ]
  },
  {
   "cell_type": "code",
   "execution_count": null,
   "id": "ea43442e",
   "metadata": {},
   "outputs": [],
   "source": [
    "# %%\n",
    "digits = datasets.load_digits()"
   ]
  },
  {
   "cell_type": "code",
   "execution_count": null,
   "id": "e78f6999",
   "metadata": {},
   "outputs": [],
   "source": [
    "#\n",
    "# Tamaño del dataset\n",
    "#\n",
    "  digits.images.shape"
   ]
  },
  {
   "cell_type": "code",
   "execution_count": null,
   "id": "ea8dc3c9",
   "metadata": {},
   "outputs": [],
   "source": [
    "#\n",
    "# Ejemplo de una imagen (data)\n",
    "#\n",
    "digits.images[0, :, :]"
   ]
  },
  {
   "cell_type": "code",
   "execution_count": null,
   "id": "59fb6d64",
   "metadata": {},
   "outputs": [],
   "source": [
    "# %%\n",
    "#\n",
    "# Clases\n",
    "#\n",
    "set(digits.target)"
   ]
  },
  {
   "cell_type": "code",
   "execution_count": null,
   "id": "c81f2990",
   "metadata": {},
   "outputs": [],
   "source": [
    "# %%\n",
    "plt.figure(figsize=(8, 8))\n",
    "for i in range(25):\n",
    "    plt.subplot(5, 5, i + 1)\n",
    "    plt.xticks([])\n",
    "    plt.yticks([])\n",
    "    plt.grid(False)\n",
    "    plt.imshow(digits.images[i], cmap=plt.cm.binary)\n",
    "    plt.xlabel(digits.target[i])\n",
    "plt.show()"
   ]
  }
 ],
 "metadata": {
  "kernelspec": {
   "display_name": "Python 3",
   "language": "python",
   "name": "python3"
  },
  "language_info": {
   "name": "python",
   "version": "3.12.3"
  }
 },
 "nbformat": 4,
 "nbformat_minor": 5
}
